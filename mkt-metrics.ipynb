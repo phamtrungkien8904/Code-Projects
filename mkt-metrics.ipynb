{
 "cells": [
  {
   "cell_type": "markdown",
   "metadata": {},
   "source": [
    "# Marketing Metrics"
   ]
  },
  {
   "cell_type": "markdown",
   "metadata": {},
   "source": [
    "## 2.3. Brand Development Index and Category Development Index\n",
    "The brand development index (BDI) quantifies how well a brand is performing within a specific group of customers, compared with its average performance among all consumers.\n",
    "### Exercise\n",
    "-Total number of women in Hai Ba Trung district: 500,000 people\n",
    "\n",
    "-Total Sunsilk that women in Hai Ba Trung district bought: 1000 bottles\n",
    "\n",
    "-Total number of women in Hanoi: 5,000,000 people\n",
    "\n",
    "-Total Sunsilk that Hanoi women bought: 8000 bottles\n",
    "\n",
    "Calculate the BDI"
   ]
  },
  {
   "cell_type": "code",
   "execution_count": 14,
   "metadata": {},
   "outputs": [
    {
     "name": "stdout",
     "output_type": "stream",
     "text": [
      "Brand Development Index (BDI): 125.00\n"
     ]
    }
   ],
   "source": [
    "# Data\n",
    "brand_sales_in_market = 1000\n",
    "total_brand_sales = 8000\n",
    "population_in_market = 500000\n",
    "total_population = 5000000\n",
    "\n",
    "# Calculate the percentages\n",
    "brand_sales_percentage = brand_sales_in_market / total_brand_sales\n",
    "population_percentage = population_in_market / total_population\n",
    "\n",
    "# Calculate BDI\n",
    "bdi = (brand_sales_percentage / population_percentage) * 100\n",
    "\n",
    "print(f\"Brand Development Index (BDI): {bdi:.2f}\")"
   ]
  },
  {
   "cell_type": "markdown",
   "metadata": {},
   "source": [
    "The category development index (CDI) measures the sales performance of a category of goods or services within a specific group, compared with its average performance among all consumers.\n",
    "### Exercise\n",
    "-Total number of men in Hanoi: 5.000.000 ppl\n",
    "\n",
    "-Total Tshirt that they bought: 5.000 pcs\n",
    "\n",
    "-Total number of men in Vietnam: 50,000,000  ppl \n",
    "\n",
    "-Total Tshirt they bought: 70.000 pcs\n",
    "\n",
    "Calculate the CDI"
   ]
  },
  {
   "cell_type": "code",
   "execution_count": 15,
   "metadata": {},
   "outputs": [
    {
     "name": "stdout",
     "output_type": "stream",
     "text": [
      "Category Development Index (CDI): 71.43\n"
     ]
    }
   ],
   "source": [
    "# Data\n",
    "category_sales_in_market = 5000\n",
    "total_category_sales = 5000000\n",
    "population_in_market = 70000\n",
    "total_population = 50000000\n",
    "\n",
    "# Calculate the percentages\n",
    "category_sales_percentage = category_sales_in_market / total_category_sales\n",
    "population_percentage = population_in_market / total_population\n",
    "\n",
    "# Calculate CDI\n",
    "cdi = (category_sales_percentage / population_percentage) * 100\n",
    "\n",
    "print(f\"Category Development Index (CDI): {cdi:.2f}\")"
   ]
  },
  {
   "cell_type": "markdown",
   "metadata": {},
   "source": [
    "## 2.4 Penetration\n",
    "Penetration is a measure of brand or category popularity. It is defined as the number of people who buy a specific brand or a category of goods at least once in a given period, divided by the size of the relevant market population.\n",
    "\n",
    "Market Penetration(%) = Custumers in Category/Total Population *100%\n",
    "\n",
    "Brand Penetration(%) = Custumers in Brand/Total Population *100%\n",
    "\n",
    "Penetration Share(%) = Market Penetration(%)/Brand Penetration(%) = Custumers in Category/Custumers in Brand\n",
    "\n",
    "### Exercise\n",
    "-Total number of households in Hanoi: 10.000,000 \n",
    "\n",
    "-Total number of households who bought OMO: 10.000 \n",
    "\n",
    "-Total number of households who bought washing powder : 50,000 \n",
    "\n",
    "Calculate the 3 parameters\n"
   ]
  },
  {
   "cell_type": "code",
   "execution_count": 16,
   "metadata": {},
   "outputs": [
    {
     "name": "stdout",
     "output_type": "stream",
     "text": [
      "Market Penetration: 0.10%\n",
      "Brand Penetration: 0.50%\n",
      "Penetration Share: 500.00%\n"
     ]
    }
   ],
   "source": [
    "# Data\n",
    "category_sales_in_market = 10000\n",
    "brand_sales_in_market = 50000\n",
    "total_population = 10000000\n",
    "\n",
    "# Calculate the percentages\n",
    "market_penetration = category_sales_in_market / total_population * 100\n",
    "brand_penetration = brand_sales_in_market/ total_population * 100\n",
    "penetration_share = brand_penetration / market_penetration * 100\n",
    "\n",
    "print(f\"Market Penetration: {market_penetration:.2f}%\")\n",
    "print(f\"Brand Penetration: {brand_penetration:.2f}%\")\n",
    "print(f\"Penetration Share: {penetration_share:.2f}%\")"
   ]
  },
  {
   "cell_type": "markdown",
   "metadata": {},
   "source": [
    "## 2.5. Share of Requirements\n",
    "Share of requirements, also known as share of wallet, is calculated solely among buyers of a specific brand. Within this group, it represents the percentage of purchases within the relevant category, accounted for by the brand in question.\n",
    "\n",
    "### Exercise\n",
    "The amount of The Alley milk tea sold: 30,000 cups per month\n",
    "\n",
    "The amount of milk tea products Alley customers bought: 100,000 cups per month\n",
    "\n"
   ]
  },
  {
   "cell_type": "code",
   "execution_count": 17,
   "metadata": {},
   "outputs": [
    {
     "name": "stdout",
     "output_type": "stream",
     "text": [
      "Brand Share: 30.00%\n"
     ]
    }
   ],
   "source": [
    "# Data\n",
    "brand_purchases = 30000\n",
    "total_purchases = 100000\n",
    "share = brand_purchases / total_purchases * 100\n",
    "print(f\"Brand Share: {share:.2f}%\")\n"
   ]
  },
  {
   "cell_type": "markdown",
   "metadata": {},
   "source": [
    "## 2.6 Usage Index\n",
    "The usage index is a relative measure that indicates how heavily the customers of a given brand use the product category.\n",
    "### Exercise\n",
    "On average, a Hanoi resident buys 10 packs of instant noodles a month\n",
    "\n",
    "On average, consumers of Cung Dinh noodles in Hanoi buy 20 packs of noodles a month\n"
   ]
  },
  {
   "cell_type": "code",
   "execution_count": 18,
   "metadata": {},
   "outputs": [
    {
     "name": "stdout",
     "output_type": "stream",
     "text": [
      "Usage Index: 50.00%\n"
     ]
    }
   ],
   "source": [
    "purchases_brand_customer = 10\n",
    "purchases_total_customer = 20\n",
    "usage_index = purchases_brand_customer / purchases_total_customer * 100\n",
    "print(f\"Usage Index: {usage_index:.2f}%\")"
   ]
  }
 ],
 "metadata": {
  "kernelspec": {
   "display_name": "Python 3",
   "language": "python",
   "name": "python3"
  },
  "language_info": {
   "codemirror_mode": {
    "name": "ipython",
    "version": 3
   },
   "file_extension": ".py",
   "mimetype": "text/x-python",
   "name": "python",
   "nbconvert_exporter": "python",
   "pygments_lexer": "ipython3",
   "version": "3.12.5"
  }
 },
 "nbformat": 4,
 "nbformat_minor": 2
}
